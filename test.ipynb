{
 "cells": [
  {
   "cell_type": "code",
   "execution_count": null,
   "metadata": {},
   "outputs": [
    {
     "name": "stdout",
     "output_type": "stream",
     "text": [
      "(98473,)\n",
      "x_hr shape (100276,)\n",
      "x_lr shape1 (25069,)\n",
      "x_lr shape1 (1, 25069, 1)\n"
     ]
    },
    {
     "ename": "ValueError",
     "evalue": "cannot reshape array of size 100256 into shape (52,1892,1)",
     "output_type": "error",
     "traceback": [
      "\u001b[1;31m---------------------------------------------------------------------------\u001b[0m",
      "\u001b[1;31mValueError\u001b[0m                                Traceback (most recent call last)",
      "\u001b[1;32mc:\\Users\\user\\Desktop\\junior\\MultiMedia\\AudioUnet\\test.ipynb Cell 3\u001b[0m in \u001b[0;36m1\n\u001b[1;32m----> <a href='vscode-notebook-cell:/c%3A/Users/user/Desktop/junior/MultiMedia/AudioUnet/test.ipynb#W2sZmlsZQ%3D%3D?line=0'>1</a>\u001b[0m upsample_wav()\n",
      "\u001b[1;32mc:\\Users\\user\\Desktop\\junior\\MultiMedia\\AudioUnet\\test.ipynb Cell 3\u001b[0m in \u001b[0;36m3\n\u001b[0;32m     <a href='vscode-notebook-cell:/c%3A/Users/user/Desktop/junior/MultiMedia/AudioUnet/test.ipynb#W2sZmlsZQ%3D%3D?line=32'>33</a>\u001b[0m x_sp \u001b[39m=\u001b[39m x_sp[:\u001b[39mlen\u001b[39m(x_sp) \u001b[39m-\u001b[39m (\u001b[39mlen\u001b[39m(x_sp) \u001b[39m%\u001b[39m (\u001b[39m2\u001b[39m\u001b[39m*\u001b[39m\u001b[39m*\u001b[39m(\u001b[39m4\u001b[39m\u001b[39m+\u001b[39m\u001b[39m1\u001b[39m)))]\n\u001b[0;32m     <a href='vscode-notebook-cell:/c%3A/Users/user/Desktop/junior/MultiMedia/AudioUnet/test.ipynb#W2sZmlsZQ%3D%3D?line=33'>34</a>\u001b[0m x_sp \u001b[39m=\u001b[39m x_sp\u001b[39m.\u001b[39mreshape((\u001b[39m1\u001b[39m,\u001b[39mlen\u001b[39m(x_sp),\u001b[39m1\u001b[39m))\n\u001b[1;32m---> <a href='vscode-notebook-cell:/c%3A/Users/user/Desktop/junior/MultiMedia/AudioUnet/test.ipynb#W2sZmlsZQ%3D%3D?line=34'>35</a>\u001b[0m x_sp \u001b[39m=\u001b[39m x_sp\u001b[39m.\u001b[39;49mreshape((\u001b[39mint\u001b[39;49m(x_sp\u001b[39m.\u001b[39;49mshape[\u001b[39m1\u001b[39;49m]\u001b[39m/\u001b[39;49m\u001b[39m1892\u001b[39;49m), \u001b[39m1892\u001b[39;49m,\u001b[39m1\u001b[39;49m))\n",
      "\u001b[1;31mValueError\u001b[0m: cannot reshape array of size 100256 into shape (52,1892,1)"
     ]
    }
   ],
   "source": [
    "from utils import up_sample_wav_12_to_48"
   ]
  },
  {
   "cell_type": "code",
   "execution_count": null,
   "metadata": {},
   "outputs": [],
   "source": [
    "up_sample_wav_12_to_48()"
   ]
  }
 ],
 "metadata": {
  "kernelspec": {
   "display_name": "Python 3",
   "language": "python",
   "name": "python3"
  },
  "language_info": {
   "codemirror_mode": {
    "name": "ipython",
    "version": 3
   },
   "file_extension": ".py",
   "mimetype": "text/x-python",
   "name": "python",
   "nbconvert_exporter": "python",
   "pygments_lexer": "ipython3",
   "version": "3.10.11"
  },
  "orig_nbformat": 4
 },
 "nbformat": 4,
 "nbformat_minor": 2
}
